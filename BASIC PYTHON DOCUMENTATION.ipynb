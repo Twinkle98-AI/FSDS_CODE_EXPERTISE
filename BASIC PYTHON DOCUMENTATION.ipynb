{
 "cells": [
  {
   "cell_type": "markdown",
   "id": "4c20b152-647f-4a69-8d0b-1fd3c331a6d6",
   "metadata": {},
   "source": [
    "AN INFORMAL INTRODUCTION TO PYTHON\n",
    "- USING A PYTHON CALCULATOR"
   ]
  },
  {
   "cell_type": "code",
   "execution_count": 2,
   "id": "f32274c5-fa44-446a-948c-9df6ee1e1d50",
   "metadata": {},
   "outputs": [
    {
     "data": {
      "text/plain": [
       "5"
      ]
     },
     "execution_count": 2,
     "metadata": {},
     "output_type": "execute_result"
    }
   ],
   "source": [
    ">>> 2+3"
   ]
  },
  {
   "cell_type": "code",
   "execution_count": 3,
   "id": "819439d7-374a-4e6c-ae18-20ec0284aeb5",
   "metadata": {},
   "outputs": [
    {
     "data": {
      "text/plain": [
       "42.5"
      ]
     },
     "execution_count": 3,
     "metadata": {},
     "output_type": "execute_result"
    }
   ],
   "source": [
    ">>> 50-5*6/4"
   ]
  },
  {
   "cell_type": "code",
   "execution_count": 4,
   "id": "0192dc4b-8518-4254-9e5d-af1328d2fb9d",
   "metadata": {},
   "outputs": [
    {
     "data": {
      "text/plain": [
       "1.6"
      ]
     },
     "execution_count": 4,
     "metadata": {},
     "output_type": "execute_result"
    }
   ],
   "source": [
    ">>> 8/5 #division always returns as a floating point number"
   ]
  },
  {
   "cell_type": "markdown",
   "id": "13ea8df3-a790-460c-9d5d-218444bad901",
   "metadata": {},
   "source": [
    "division always returns a float. to do floor divisiom and get an integer result you can use // operation, to calculate the remainder you can use% "
   ]
  },
  {
   "cell_type": "code",
   "execution_count": 5,
   "id": "e6faf6f2-679b-49cb-9589-92a48b1ec857",
   "metadata": {},
   "outputs": [
    {
     "data": {
      "text/plain": [
       "5.666666666666667"
      ]
     },
     "execution_count": 5,
     "metadata": {},
     "output_type": "execute_result"
    }
   ],
   "source": [
    ">>> 17/3 #classic division retuns a float"
   ]
  },
  {
   "cell_type": "code",
   "execution_count": 6,
   "id": "4d00a974-fe31-48ad-bff5-d29a11712e54",
   "metadata": {},
   "outputs": [
    {
     "data": {
      "text/plain": [
       "5"
      ]
     },
     "execution_count": 6,
     "metadata": {},
     "output_type": "execute_result"
    }
   ],
   "source": [
    ">>> 17//3 #floor division discard the fractional part"
   ]
  },
  {
   "cell_type": "code",
   "execution_count": 8,
   "id": "2bb0e453-c43a-4327-99f9-3c87de9f1e4d",
   "metadata": {},
   "outputs": [
    {
     "data": {
      "text/plain": [
       "2"
      ]
     },
     "execution_count": 8,
     "metadata": {},
     "output_type": "execute_result"
    }
   ],
   "source": [
    ">>> 17%3 #the oerator returns the remainder of the division"
   ]
  },
  {
   "cell_type": "code",
   "execution_count": null,
   "id": "af3cbfa6-504b-49e0-9a39-f015c39d1e98",
   "metadata": {},
   "outputs": [],
   "source": [
    ">>> 5*3+2 #floated quotent"
   ]
  },
  {
   "cell_type": "markdown",
   "id": "470dae3c-3fdb-4732-902a-b6ee9314c786",
   "metadata": {},
   "source": [
    "calculation of power"
   ]
  },
  {
   "cell_type": "code",
   "execution_count": 10,
   "id": "2406689a-d956-4ad3-804b-3bc0ca66c2cc",
   "metadata": {},
   "outputs": [
    {
     "data": {
      "text/plain": [
       "25"
      ]
     },
     "execution_count": 10,
     "metadata": {},
     "output_type": "execute_result"
    }
   ],
   "source": [
    ">>> 5**2 #5 squared"
   ]
  },
  {
   "cell_type": "code",
   "execution_count": 12,
   "id": "b95f72ad-b612-415c-b420-5cc03e8cfa16",
   "metadata": {},
   "outputs": [
    {
     "data": {
      "text/plain": [
       "128"
      ]
     },
     "execution_count": 12,
     "metadata": {},
     "output_type": "execute_result"
    }
   ],
   "source": [
    ">>> 2**7 # 2 to the power 7"
   ]
  },
  {
   "cell_type": "markdown",
   "id": "009e545e-6922-4bbd-8e21-8eae81a680cd",
   "metadata": {},
   "source": [
    "Equal sign used to assign a value to a variable"
   ]
  },
  {
   "cell_type": "code",
   "execution_count": 13,
   "id": "6923d9be-d9e3-40fc-b1e1-e9b641bee35c",
   "metadata": {},
   "outputs": [
    {
     "data": {
      "text/plain": [
       "900"
      ]
     },
     "execution_count": 13,
     "metadata": {},
     "output_type": "execute_result"
    }
   ],
   "source": [
    ">>> width=20\n",
    ">>> height= 5*9\n",
    ">>> width*height"
   ]
  },
  {
   "cell_type": "markdown",
   "id": "958bb3b8-d96a-4179-a6b3-ef352a981c5e",
   "metadata": {},
   "source": [
    "In interactive mode the last printed  expression is assigned to the variable_. This means that when you are using python as adesk calculator it is somewhat easier to continue calculation "
   ]
  },
  {
   "cell_type": "code",
   "execution_count": 14,
   "id": "8ac80c71-b06c-414c-a532-f037842eb615",
   "metadata": {},
   "outputs": [
    {
     "data": {
      "text/plain": [
       "12.5625"
      ]
     },
     "execution_count": 14,
     "metadata": {},
     "output_type": "execute_result"
    }
   ],
   "source": [
    ">>> tax= 12.5/100\n",
    ">>> price= 100.50\n",
    ">>> price*tax"
   ]
  },
  {
   "cell_type": "code",
   "execution_count": 15,
   "id": "aca44cff-9f61-453a-9080-66f611770c7f",
   "metadata": {},
   "outputs": [
    {
     "data": {
      "text/plain": [
       "113.0625"
      ]
     },
     "execution_count": 15,
     "metadata": {},
     "output_type": "execute_result"
    }
   ],
   "source": [
    ">>> price+_"
   ]
  },
  {
   "cell_type": "code",
   "execution_count": 16,
   "id": "8b3aea9d-7b28-4683-8d1c-31e24fff8286",
   "metadata": {},
   "outputs": [
    {
     "data": {
      "text/plain": [
       "113.06"
      ]
     },
     "execution_count": 16,
     "metadata": {},
     "output_type": "execute_result"
    }
   ],
   "source": [
    ">>> round(_,2)"
   ]
  },
  {
   "cell_type": "markdown",
   "id": "49d3175e-79fb-4308-8777-9edc95ec2b97",
   "metadata": {},
   "source": [
    "STRING"
   ]
  },
  {
   "cell_type": "code",
   "execution_count": 17,
   "id": "a7ea42f3-d335-4aff-a21c-7d9eacc0acce",
   "metadata": {},
   "outputs": [
    {
     "data": {
      "text/plain": [
       "'spam eggs'"
      ]
     },
     "execution_count": 17,
     "metadata": {},
     "output_type": "execute_result"
    }
   ],
   "source": [
    ">>> 'spam eggs' #single quote"
   ]
  },
  {
   "cell_type": "code",
   "execution_count": 18,
   "id": "49d909f0-9ffd-4a57-8814-d8c7e5bfb419",
   "metadata": {},
   "outputs": [
    {
     "data": {
      "text/plain": [
       "'paris rabbit got your back:)!yay!'"
      ]
     },
     "execution_count": 18,
     "metadata": {},
     "output_type": "execute_result"
    }
   ],
   "source": [
    ">>> \"paris rabbit got your back:)!yay!\" #double quote"
   ]
  },
  {
   "cell_type": "code",
   "execution_count": 19,
   "id": "138462cf-1ab4-46e8-8013-0deebe1cc506",
   "metadata": {},
   "outputs": [
    {
     "data": {
      "text/plain": [
       "'1978'"
      ]
     },
     "execution_count": 19,
     "metadata": {},
     "output_type": "execute_result"
    }
   ],
   "source": [
    ">>> '1978' #digit and numbers enclosed in quotes also string"
   ]
  },
  {
   "cell_type": "markdown",
   "id": "89cbb9da-16c2-4235-b0ca-4ee18b72bef9",
   "metadata": {},
   "source": [
    "STRING INDEXING"
   ]
  },
  {
   "cell_type": "code",
   "execution_count": 20,
   "id": "a8b82550-e7b0-4f33-8069-f53e8109b8be",
   "metadata": {},
   "outputs": [],
   "source": [
    ">>> word= 'python'"
   ]
  },
  {
   "cell_type": "code",
   "execution_count": 21,
   "id": "e956726a-dd6d-4778-82af-b080bb863468",
   "metadata": {},
   "outputs": [
    {
     "data": {
      "text/plain": [
       "'p'"
      ]
     },
     "execution_count": 21,
     "metadata": {},
     "output_type": "execute_result"
    }
   ],
   "source": [
    ">>> word[0] #character in position 0"
   ]
  },
  {
   "cell_type": "code",
   "execution_count": 22,
   "id": "5cb85801-a1b7-4671-bf64-394b6660d86c",
   "metadata": {},
   "outputs": [
    {
     "data": {
      "text/plain": [
       "'n'"
      ]
     },
     "execution_count": 22,
     "metadata": {},
     "output_type": "execute_result"
    }
   ],
   "source": [
    ">>> word[5] #character in 5 position"
   ]
  },
  {
   "cell_type": "markdown",
   "id": "06785c3e-8cb2-4a6e-a646-d5d0a2a8285d",
   "metadata": {},
   "source": [
    "REVERSE INDEXING"
   ]
  },
  {
   "cell_type": "code",
   "execution_count": 23,
   "id": "b3aad564-ef7b-40b6-b4a0-bd15479d72f1",
   "metadata": {},
   "outputs": [
    {
     "data": {
      "text/plain": [
       "'n'"
      ]
     },
     "execution_count": 23,
     "metadata": {},
     "output_type": "execute_result"
    }
   ],
   "source": [
    ">>> word[-1] #last character"
   ]
  },
  {
   "cell_type": "code",
   "execution_count": 24,
   "id": "cbd10db8-fa04-4811-820c-c09c93a59e7e",
   "metadata": {},
   "outputs": [
    {
     "data": {
      "text/plain": [
       "'y'"
      ]
     },
     "execution_count": 24,
     "metadata": {},
     "output_type": "execute_result"
    }
   ],
   "source": [
    ">>> word[-5]"
   ]
  },
  {
   "cell_type": "code",
   "execution_count": 25,
   "id": "aab987c6-a54f-4ae9-bd81-067fc711a320",
   "metadata": {},
   "outputs": [
    {
     "data": {
      "text/plain": [
       "'o'"
      ]
     },
     "execution_count": 25,
     "metadata": {},
     "output_type": "execute_result"
    }
   ],
   "source": [
    ">>> word[-2] #2nd last character"
   ]
  },
  {
   "cell_type": "markdown",
   "id": "fd66c3f8-88a1-4756-b1ea-796a26eeca20",
   "metadata": {},
   "source": [
    "SLICING"
   ]
  },
  {
   "cell_type": "code",
   "execution_count": 27,
   "id": "dad47f02-8d1b-4f17-965e-9cc6f1e30ebd",
   "metadata": {},
   "outputs": [
    {
     "data": {
      "text/plain": [
       "'py'"
      ]
     },
     "execution_count": 27,
     "metadata": {},
     "output_type": "execute_result"
    }
   ],
   "source": [
    ">>> word[0:2] #position from 0 to 2"
   ]
  },
  {
   "cell_type": "code",
   "execution_count": 28,
   "id": "4bd79554-68af-44b8-96cd-72b717696019",
   "metadata": {},
   "outputs": [
    {
     "data": {
      "text/plain": [
       "'pytho'"
      ]
     },
     "execution_count": 28,
     "metadata": {},
     "output_type": "execute_result"
    }
   ],
   "source": [
    ">>> word[0:5]"
   ]
  },
  {
   "cell_type": "code",
   "execution_count": 30,
   "id": "f8be3ab4-3b7f-4648-a3d8-30c471d8ac02",
   "metadata": {},
   "outputs": [
    {
     "data": {
      "text/plain": [
       "'on'"
      ]
     },
     "execution_count": 30,
     "metadata": {},
     "output_type": "execute_result"
    }
   ],
   "source": [
    ">>> word[4:] #character from position 4 to end"
   ]
  },
  {
   "cell_type": "code",
   "execution_count": 31,
   "id": "85db629b-6df0-4775-98d3-8d7514ad6841",
   "metadata": {},
   "outputs": [
    {
     "data": {
      "text/plain": [
       "'on'"
      ]
     },
     "execution_count": 31,
     "metadata": {},
     "output_type": "execute_result"
    }
   ],
   "source": [
    ">>> word[-2:] #character from the 2nd last to end"
   ]
  },
  {
   "cell_type": "markdown",
   "id": "5b347d8b-e418-481c-89d9-334a019045b3",
   "metadata": {},
   "source": [
    "LIST"
   ]
  },
  {
   "cell_type": "markdown",
   "id": "83f49c35-90d7-44e6-92e2-2e6b06da0196",
   "metadata": {},
   "source": [
    "list might contain items of different type but usually the items all have same type"
   ]
  },
  {
   "cell_type": "code",
   "execution_count": 36,
   "id": "3084be68-4eec-41b6-836b-573f0f4b538d",
   "metadata": {},
   "outputs": [
    {
     "data": {
      "text/plain": [
       "[1, 4, 9, 16, 25]"
      ]
     },
     "execution_count": 36,
     "metadata": {},
     "output_type": "execute_result"
    }
   ],
   "source": [
    ">>> square=[1,4,9,16,25]\n",
    ">>> square"
   ]
  },
  {
   "cell_type": "markdown",
   "id": "648f4a43-ff93-48ca-82d2-06f1df39bd69",
   "metadata": {},
   "source": [
    "LIST INDEXING AND SLICING"
   ]
  },
  {
   "cell_type": "code",
   "execution_count": 37,
   "id": "f284404e-0e02-4a14-9599-0a15226e6abb",
   "metadata": {},
   "outputs": [
    {
     "data": {
      "text/plain": [
       "1"
      ]
     },
     "execution_count": 37,
     "metadata": {},
     "output_type": "execute_result"
    }
   ],
   "source": [
    ">>> square[0]"
   ]
  },
  {
   "cell_type": "code",
   "execution_count": 38,
   "id": "70cac895-59f2-4119-96de-b2f53e50e521",
   "metadata": {},
   "outputs": [
    {
     "data": {
      "text/plain": [
       "25"
      ]
     },
     "execution_count": 38,
     "metadata": {},
     "output_type": "execute_result"
    }
   ],
   "source": [
    ">>> square[-1]"
   ]
  },
  {
   "cell_type": "code",
   "execution_count": 39,
   "id": "76718fc8-76f1-4a9d-b751-36ec6bd18e74",
   "metadata": {},
   "outputs": [
    {
     "data": {
      "text/plain": [
       "9"
      ]
     },
     "execution_count": 39,
     "metadata": {},
     "output_type": "execute_result"
    }
   ],
   "source": [
    ">>> square[-3]"
   ]
  },
  {
   "cell_type": "markdown",
   "id": "ae2b2572-535e-4c3e-ab13-c1725bfd54b1",
   "metadata": {},
   "source": [
    "you can also add new items at the end of the list  by using list.append()"
   ]
  },
  {
   "cell_type": "code",
   "execution_count": 52,
   "id": "31f9ee93-6f3d-484f-b32f-5fdb73b309a4",
   "metadata": {},
   "outputs": [
    {
     "data": {
      "text/plain": [
       "[1, 8, 27, 64, 125]"
      ]
     },
     "execution_count": 52,
     "metadata": {},
     "output_type": "execute_result"
    }
   ],
   "source": [
    ">>> cubes=[1,8,27,64,125]\n",
    ">>> cubes"
   ]
  },
  {
   "cell_type": "code",
   "execution_count": 54,
   "id": "be8248fd-5112-4512-95a2-95b1455026a6",
   "metadata": {},
   "outputs": [
    {
     "data": {
      "text/plain": [
       "[1, 8, 27, 64, 125, 216]"
      ]
     },
     "execution_count": 54,
     "metadata": {},
     "output_type": "execute_result"
    }
   ],
   "source": [
    ">>> cubes.append(216)\n",
    ">>> cubes"
   ]
  },
  {
   "cell_type": "code",
   "execution_count": 55,
   "id": "0eb9e5eb-59c4-48fd-87cf-bece2017ff1b",
   "metadata": {},
   "outputs": [
    {
     "data": {
      "text/plain": [
       "[1, 8, 27, 64, 125, 216, 343]"
      ]
     },
     "execution_count": 55,
     "metadata": {},
     "output_type": "execute_result"
    }
   ],
   "source": [
    ">>> cubes.append(7**3)\n",
    ">>> cubes"
   ]
  },
  {
   "cell_type": "markdown",
   "id": "ea1257bf-9bf7-405f-8354-ecb362f324cd",
   "metadata": {},
   "source": [
    "built_in function len() also applies to list "
   ]
  },
  {
   "cell_type": "code",
   "execution_count": 57,
   "id": "2a053d3a-09cf-45cd-ac6a-0325f15aafa2",
   "metadata": {},
   "outputs": [
    {
     "data": {
      "text/plain": [
       "['a', 'b', 'c', 'd']"
      ]
     },
     "execution_count": 57,
     "metadata": {},
     "output_type": "execute_result"
    }
   ],
   "source": [
    ">>> letter=['a','b','c','d']\n",
    ">>> letter"
   ]
  },
  {
   "cell_type": "code",
   "execution_count": 59,
   "id": "d0ecfe85-61d7-4b34-9c11-3bda7edbf050",
   "metadata": {},
   "outputs": [
    {
     "data": {
      "text/plain": [
       "4"
      ]
     },
     "execution_count": 59,
     "metadata": {},
     "output_type": "execute_result"
    }
   ],
   "source": [
    ">>> len(letter)"
   ]
  },
  {
   "cell_type": "markdown",
   "id": "80807c1b-a4ed-4562-b942-ed37fe85d360",
   "metadata": {},
   "source": [
    "Itis possible to nest list(create list containing other list"
   ]
  },
  {
   "cell_type": "code",
   "execution_count": 60,
   "id": "497e9f44-e5d5-4ce9-8d46-2de3cd2eebaf",
   "metadata": {},
   "outputs": [
    {
     "data": {
      "text/plain": [
       "[['a', 'b', 'c'], [1, 2, 3]]"
      ]
     },
     "execution_count": 60,
     "metadata": {},
     "output_type": "execute_result"
    }
   ],
   "source": [
    ">>> a=['a','b','c']\n",
    ">>> n=[1,2,3]\n",
    ">>> x=[a,n]\n",
    ">>> x"
   ]
  },
  {
   "cell_type": "markdown",
   "id": "a967d90e-f397-41f6-83b5-a04b7465a526",
   "metadata": {},
   "source": [
    "assignment to slices also possible,this can also change the size of the list or clear it entirely"
   ]
  },
  {
   "cell_type": "code",
   "execution_count": 61,
   "id": "4f2a5e72-5e35-4d6e-9a32-7895292420bf",
   "metadata": {},
   "outputs": [
    {
     "data": {
      "text/plain": [
       "['a', 'b', 'c', 'd', 'e', 'f']"
      ]
     },
     "execution_count": 61,
     "metadata": {},
     "output_type": "execute_result"
    }
   ],
   "source": [
    " >>> letters=['a','b','c','d','e','f']\n",
    ">>> letters"
   ]
  },
  {
   "cell_type": "code",
   "execution_count": 62,
   "id": "7aaa504d-d81b-4680-968a-68a8287efc5e",
   "metadata": {},
   "outputs": [
    {
     "data": {
      "text/plain": [
       "['a', 'b', 'C', 'D', 'E', 'f']"
      ]
     },
     "execution_count": 62,
     "metadata": {},
     "output_type": "execute_result"
    }
   ],
   "source": [
    ">>> letters[2:5]=['C','D','E'] #replace some items\n",
    ">>> letters"
   ]
  },
  {
   "cell_type": "code",
   "execution_count": 63,
   "id": "41f9542c-a769-4b15-9fc0-58f45ebaf1c5",
   "metadata": {},
   "outputs": [],
   "source": [
    ">>> letters[2:5]=[] #remove items"
   ]
  },
  {
   "cell_type": "code",
   "execution_count": 64,
   "id": "add51f48-8666-4f13-b9ee-e18489d013d9",
   "metadata": {},
   "outputs": [
    {
     "data": {
      "text/plain": [
       "['a', 'b', 'f']"
      ]
     },
     "execution_count": 64,
     "metadata": {},
     "output_type": "execute_result"
    }
   ],
   "source": [
    ">>> letters"
   ]
  },
  {
   "cell_type": "code",
   "execution_count": 65,
   "id": "6283975c-e174-4f01-a121-b787d8c41b18",
   "metadata": {},
   "outputs": [
    {
     "data": {
      "text/plain": [
       "[]"
      ]
     },
     "execution_count": 65,
     "metadata": {},
     "output_type": "execute_result"
    }
   ],
   "source": [
    ">>> letters[:]=[] #clear the list\n",
    ">>> letters"
   ]
  },
  {
   "cell_type": "markdown",
   "id": "f3b3135e-f5a4-4f5a-aa9a-e064fdf71eac",
   "metadata": {},
   "source": [
    "An example that uses most of the list methods:"
   ]
  },
  {
   "cell_type": "code",
   "execution_count": 66,
   "id": "79172856-0fad-48c1-8792-547cf1f456f8",
   "metadata": {},
   "outputs": [
    {
     "data": {
      "text/plain": [
       "2"
      ]
     },
     "execution_count": 66,
     "metadata": {},
     "output_type": "execute_result"
    }
   ],
   "source": [
    ">>> fruits=['orange','apple','pear','banana','kiwi','apple','banana']\n",
    ">>> fruits.count('apple')"
   ]
  },
  {
   "cell_type": "code",
   "execution_count": 67,
   "id": "1ddbd469-2cb4-4e17-a346-a13d35ca9519",
   "metadata": {},
   "outputs": [
    {
     "data": {
      "text/plain": [
       "0"
      ]
     },
     "execution_count": 67,
     "metadata": {},
     "output_type": "execute_result"
    }
   ],
   "source": [
    ">>> fruits.count('tangerine')"
   ]
  },
  {
   "cell_type": "code",
   "execution_count": 69,
   "id": "0c19feb7-b980-4e6c-bd0b-c5ae8721e77d",
   "metadata": {},
   "outputs": [
    {
     "data": {
      "text/plain": [
       "2"
      ]
     },
     "execution_count": 69,
     "metadata": {},
     "output_type": "execute_result"
    }
   ],
   "source": [
    ">>> fruits.count('banana')"
   ]
  },
  {
   "cell_type": "code",
   "execution_count": 70,
   "id": "43f84a52-34d2-42bd-aa97-6d9b31469f4d",
   "metadata": {},
   "outputs": [
    {
     "data": {
      "text/plain": [
       "3"
      ]
     },
     "execution_count": 70,
     "metadata": {},
     "output_type": "execute_result"
    }
   ],
   "source": [
    ">>> fruits.index('banana')"
   ]
  },
  {
   "cell_type": "code",
   "execution_count": 71,
   "id": "826443e9-2438-43ba-ad3c-690987a82490",
   "metadata": {},
   "outputs": [
    {
     "data": {
      "text/plain": [
       "6"
      ]
     },
     "execution_count": 71,
     "metadata": {},
     "output_type": "execute_result"
    }
   ],
   "source": [
    ">>> fruits.index('banana',4)"
   ]
  },
  {
   "cell_type": "code",
   "execution_count": 72,
   "id": "0a474c9d-7b9b-43d4-a332-51a5279f7682",
   "metadata": {},
   "outputs": [
    {
     "data": {
      "text/plain": [
       "['banana', 'apple', 'kiwi', 'banana', 'pear', 'apple', 'orange']"
      ]
     },
     "execution_count": 72,
     "metadata": {},
     "output_type": "execute_result"
    }
   ],
   "source": [
    ">>> fruits.reverse()\n",
    ">>> fruits"
   ]
  },
  {
   "cell_type": "code",
   "execution_count": 73,
   "id": "07ccd11a-1b8c-4e63-9234-45db99731842",
   "metadata": {},
   "outputs": [
    {
     "data": {
      "text/plain": [
       "['apple', 'apple', 'banana', 'banana', 'kiwi', 'orange', 'pear']"
      ]
     },
     "execution_count": 73,
     "metadata": {},
     "output_type": "execute_result"
    }
   ],
   "source": [
    ">>> fruits.sort()\n",
    ">>> fruits"
   ]
  },
  {
   "cell_type": "markdown",
   "id": "c4833db7-fd38-461e-97d5-663e5984735c",
   "metadata": {},
   "source": [
    "TUPLES "
   ]
  },
  {
   "cell_type": "markdown",
   "id": "804e5294-c2bc-4648-85f5-92a6585e0a40",
   "metadata": {},
   "source": [
    "Atuple consist of a number of values separated by commas,for instance"
   ]
  },
  {
   "cell_type": "code",
   "execution_count": 74,
   "id": "047f3b7b-43b4-4dbd-b728-b4123cd8bf08",
   "metadata": {},
   "outputs": [
    {
     "data": {
      "text/plain": [
       "12345"
      ]
     },
     "execution_count": 74,
     "metadata": {},
     "output_type": "execute_result"
    }
   ],
   "source": [
    ">>> t=12345, 54321, 'hello'\n",
    ">>> t[0]"
   ]
  },
  {
   "cell_type": "code",
   "execution_count": 75,
   "id": "7261001c-c0ee-4b04-912e-1eed6f3cc0d1",
   "metadata": {},
   "outputs": [
    {
     "data": {
      "text/plain": [
       "(12345, 54321, 'hello')"
      ]
     },
     "execution_count": 75,
     "metadata": {},
     "output_type": "execute_result"
    }
   ],
   "source": [
    ">>> t"
   ]
  },
  {
   "cell_type": "code",
   "execution_count": 76,
   "id": "60c1b363-4462-472c-a676-9d341600fda4",
   "metadata": {},
   "outputs": [
    {
     "data": {
      "text/plain": [
       "((12345, 54321, 'hello'), (1, 2, 3, 4, 5))"
      ]
     },
     "execution_count": 76,
     "metadata": {},
     "output_type": "execute_result"
    }
   ],
   "source": [
    ">>> u=t,(1,2,3,4,5)\n",
    ">>> u"
   ]
  },
  {
   "cell_type": "code",
   "execution_count": 77,
   "id": "3ea9e431-ecd9-4792-8909-9642cbf2feeb",
   "metadata": {},
   "outputs": [],
   "source": [
    ">>> #tuples are immutable"
   ]
  },
  {
   "cell_type": "code",
   "execution_count": 78,
   "id": "484fdca7-7ec7-48e2-8f5f-ec45c7f43483",
   "metadata": {},
   "outputs": [
    {
     "ename": "TypeError",
     "evalue": "'tuple' object does not support item assignment",
     "output_type": "error",
     "traceback": [
      "\u001b[1;31m---------------------------------------------------------------------------\u001b[0m",
      "\u001b[1;31mTypeError\u001b[0m                                 Traceback (most recent call last)",
      "Cell \u001b[1;32mIn[78], line 1\u001b[0m\n\u001b[1;32m----> 1\u001b[0m t[\u001b[38;5;241m0\u001b[39m]\u001b[38;5;241m=\u001b[39m \u001b[38;5;241m8888\u001b[39m\n",
      "\u001b[1;31mTypeError\u001b[0m: 'tuple' object does not support item assignment"
     ]
    }
   ],
   "source": [
    ">>> t[0]= 8888"
   ]
  },
  {
   "cell_type": "code",
   "execution_count": 80,
   "id": "3f3a4bd3-5e34-4b7d-93d1-56677e37aed8",
   "metadata": {},
   "outputs": [
    {
     "data": {
      "text/plain": [
       "([1, 2, 3], [3, 2, 1])"
      ]
     },
     "execution_count": 80,
     "metadata": {},
     "output_type": "execute_result"
    }
   ],
   "source": [
    ">>> v=([1,2,3],[3,2,1])\n",
    ">>> v"
   ]
  },
  {
   "cell_type": "markdown",
   "id": "7a010692-09b5-4175-b7a1-9d5799f5e523",
   "metadata": {},
   "source": [
    "SET"
   ]
  },
  {
   "cell_type": "code",
   "execution_count": 83,
   "id": "a44c73a6-f9d9-4920-8116-fc018c8c74a2",
   "metadata": {},
   "outputs": [
    {
     "name": "stdout",
     "output_type": "stream",
     "text": [
      "{'apple', 'orange', 'banana', 'pear'}\n"
     ]
    }
   ],
   "source": [
    ">>> basket = {'apple','orange','apple','pear','orange','banana'}\n",
    ">>> print(basket)"
   ]
  },
  {
   "cell_type": "code",
   "execution_count": 84,
   "id": "2b77afc3-5765-4b4e-a2d3-006ab1272b80",
   "metadata": {},
   "outputs": [
    {
     "data": {
      "text/plain": [
       "True"
      ]
     },
     "execution_count": 84,
     "metadata": {},
     "output_type": "execute_result"
    }
   ],
   "source": [
    ">>> 'orange' in basket"
   ]
  },
  {
   "cell_type": "code",
   "execution_count": 86,
   "id": "0b85f397-ad8c-4b66-981c-d41698839c7b",
   "metadata": {},
   "outputs": [
    {
     "data": {
      "text/plain": [
       "False"
      ]
     },
     "execution_count": 86,
     "metadata": {},
     "output_type": "execute_result"
    }
   ],
   "source": [
    ">>> 'crabgrass' in basket"
   ]
  },
  {
   "cell_type": "markdown",
   "id": "77296c5b-d1bf-4997-bcb5-46da58f39837",
   "metadata": {},
   "source": [
    "#demonstrate set operations on unique lettes from two words\n"
   ]
  },
  {
   "cell_type": "code",
   "execution_count": 87,
   "id": "8ffd6e2f-b3e3-40ca-9a2e-7a7f625f43ee",
   "metadata": {},
   "outputs": [],
   "source": [
    ">>> a=set('abracadabra')"
   ]
  },
  {
   "cell_type": "code",
   "execution_count": 89,
   "id": "6d4633a7-3505-4835-be6a-19dee98cf43c",
   "metadata": {},
   "outputs": [
    {
     "data": {
      "text/plain": [
       "{'a', 'b', 'c', 'd', 'r'}"
      ]
     },
     "execution_count": 89,
     "metadata": {},
     "output_type": "execute_result"
    }
   ],
   "source": [
    ">>> b=set('alacazam')\n",
    ">>> a"
   ]
  },
  {
   "cell_type": "code",
   "execution_count": 90,
   "id": "fb02d33d-46ae-4f2f-99b1-f9ff95f6c4ae",
   "metadata": {},
   "outputs": [
    {
     "data": {
      "text/plain": [
       "{'b', 'd', 'r'}"
      ]
     },
     "execution_count": 90,
     "metadata": {},
     "output_type": "execute_result"
    }
   ],
   "source": [
    ">>> a-b"
   ]
  },
  {
   "cell_type": "code",
   "execution_count": 91,
   "id": "1a0463a1-491a-47d8-b0ee-e6266d9e0123",
   "metadata": {},
   "outputs": [
    {
     "data": {
      "text/plain": [
       "{'a', 'b', 'c', 'd', 'l', 'm', 'r', 'z'}"
      ]
     },
     "execution_count": 91,
     "metadata": {},
     "output_type": "execute_result"
    }
   ],
   "source": [
    ">>> a|b"
   ]
  },
  {
   "cell_type": "code",
   "execution_count": 92,
   "id": "a668f34e-1eb3-4d49-a5b5-86af88d2588a",
   "metadata": {},
   "outputs": [
    {
     "data": {
      "text/plain": [
       "{'a', 'c'}"
      ]
     },
     "execution_count": 92,
     "metadata": {},
     "output_type": "execute_result"
    }
   ],
   "source": [
    ">>> a &b"
   ]
  },
  {
   "cell_type": "code",
   "execution_count": 93,
   "id": "aad943ea-41cc-45fa-9ff8-be19c487308c",
   "metadata": {},
   "outputs": [
    {
     "data": {
      "text/plain": [
       "{'b', 'd', 'l', 'm', 'r', 'z'}"
      ]
     },
     "execution_count": 93,
     "metadata": {},
     "output_type": "execute_result"
    }
   ],
   "source": [
    ">>> a^b"
   ]
  },
  {
   "cell_type": "markdown",
   "id": "cf2080b9-33c0-4e03-96fa-4a6ba20adbf1",
   "metadata": {},
   "source": [
    "DICTIONARY"
   ]
  },
  {
   "cell_type": "markdown",
   "id": "6963abf0-00dd-4cc9-b38b-0c528d6e29e0",
   "metadata": {},
   "source": [
    "Here is a small example using a dictionary"
   ]
  },
  {
   "cell_type": "code",
   "execution_count": 94,
   "id": "03e042b5-a237-4449-b268-0a7f0bc12a9b",
   "metadata": {},
   "outputs": [
    {
     "data": {
      "text/plain": [
       "{'jack': 4098, 'sape': 4139, 'guido': 4127}"
      ]
     },
     "execution_count": 94,
     "metadata": {},
     "output_type": "execute_result"
    }
   ],
   "source": [
    ">>> tel={'jack':4098,'sape':4139}\n",
    ">>> tel['guido']= 4127\n",
    ">>> tel"
   ]
  },
  {
   "cell_type": "code",
   "execution_count": 95,
   "id": "6fa5eabd-8577-4278-985f-88b562422a5a",
   "metadata": {},
   "outputs": [
    {
     "data": {
      "text/plain": [
       "4098"
      ]
     },
     "execution_count": 95,
     "metadata": {},
     "output_type": "execute_result"
    }
   ],
   "source": [
    ">>> tel['jack']"
   ]
  },
  {
   "cell_type": "code",
   "execution_count": 96,
   "id": "c4ec26c4-8b2d-4049-9e1f-8025a309bbe2",
   "metadata": {},
   "outputs": [
    {
     "data": {
      "text/plain": [
       "{'jack': 4098, 'guido': 4127, 'irv': 4127}"
      ]
     },
     "execution_count": 96,
     "metadata": {},
     "output_type": "execute_result"
    }
   ],
   "source": [
    ">>> del tel['sape']\n",
    ">>> tel['irv']= 4127\n",
    ">>> tel"
   ]
  },
  {
   "cell_type": "code",
   "execution_count": 97,
   "id": "f052ba87-2bd7-49f4-bead-a4dfdd0c6073",
   "metadata": {},
   "outputs": [
    {
     "data": {
      "text/plain": [
       "['jack', 'guido', 'irv']"
      ]
     },
     "execution_count": 97,
     "metadata": {},
     "output_type": "execute_result"
    }
   ],
   "source": [
    ">>> list(tel)"
   ]
  },
  {
   "cell_type": "code",
   "execution_count": 98,
   "id": "bf2e2083-d3f6-40ce-aac4-bc82e45b3a42",
   "metadata": {},
   "outputs": [
    {
     "data": {
      "text/plain": [
       "['guido', 'irv', 'jack']"
      ]
     },
     "execution_count": 98,
     "metadata": {},
     "output_type": "execute_result"
    }
   ],
   "source": [
    ">>> sorted(tel)"
   ]
  },
  {
   "cell_type": "code",
   "execution_count": 99,
   "id": "14138b5f-b914-4727-8cf9-472ec1d4cb11",
   "metadata": {},
   "outputs": [
    {
     "data": {
      "text/plain": [
       "True"
      ]
     },
     "execution_count": 99,
     "metadata": {},
     "output_type": "execute_result"
    }
   ],
   "source": [
    ">>> 'guido' in tel"
   ]
  },
  {
   "cell_type": "code",
   "execution_count": 100,
   "id": "990e0025-046e-4034-a3a2-f3f34d7266cd",
   "metadata": {},
   "outputs": [
    {
     "data": {
      "text/plain": [
       "False"
      ]
     },
     "execution_count": 100,
     "metadata": {},
     "output_type": "execute_result"
    }
   ],
   "source": [
    ">>> 'jack' not in tel"
   ]
  },
  {
   "cell_type": "code",
   "execution_count": null,
   "id": "45d3ce6f-b49f-4889-84fd-17007c254a58",
   "metadata": {},
   "outputs": [],
   "source": []
  }
 ],
 "metadata": {
  "kernelspec": {
   "display_name": "Python 3 (ipykernel)",
   "language": "python",
   "name": "python3"
  },
  "language_info": {
   "codemirror_mode": {
    "name": "ipython",
    "version": 3
   },
   "file_extension": ".py",
   "mimetype": "text/x-python",
   "name": "python",
   "nbconvert_exporter": "python",
   "pygments_lexer": "ipython3",
   "version": "3.13.5"
  }
 },
 "nbformat": 4,
 "nbformat_minor": 5
}
