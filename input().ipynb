{
 "cells": [
  {
   "cell_type": "code",
   "execution_count": 1,
   "id": "e83955fc-01bf-499c-a5eb-bcd53e981fad",
   "metadata": {},
   "outputs": [
    {
     "name": "stdin",
     "output_type": "stream",
     "text": [
      " 5\n"
     ]
    },
    {
     "data": {
      "text/plain": [
       "'5'"
      ]
     },
     "execution_count": 1,
     "metadata": {},
     "output_type": "execute_result"
    }
   ],
   "source": [
    "x= input()\n",
    "x "
   ]
  },
  {
   "cell_type": "code",
   "execution_count": null,
   "id": "4b5640ea-d7f4-41ec-a9e7-2af2716023b0",
   "metadata": {},
   "outputs": [],
   "source": [
    "5"
   ]
  },
  {
   "cell_type": "code",
   "execution_count": null,
   "id": "a75e381e-b572-4098-adb1-ae7efe00caf7",
   "metadata": {},
   "outputs": [],
   "source": [
    "x= input()\n",
    "y= input()\n",
    "\n",
    "z=x+y\n",
    "print(z)"
   ]
  },
  {
   "cell_type": "code",
   "execution_count": null,
   "id": "6365a6d4-0cfe-4700-a265-7f05d9d45d3f",
   "metadata": {},
   "outputs": [],
   "source": [
    "x1=input ('entr the 1st number')\n",
    "y1= input'(enter the 2nd number')"
   ]
  },
  {
   "cell_type": "code",
   "execution_count": null,
   "id": "cf358267-6e04-480b-91e5-e167d7263086",
   "metadata": {},
   "outputs": [],
   "source": [
    "x2= input('user name')\n",
    "y2= input ('password')"
   ]
  },
  {
   "cell_type": "code",
   "execution_count": null,
   "id": "fb28c6db-fad8-41fc-848d-5dfab949537b",
   "metadata": {},
   "outputs": [],
   "source": [
    "st= input('string')\n",
    "print)st)"
   ]
  },
  {
   "cell_type": "code",
   "execution_count": null,
   "id": "8efd74fe-e738-404a-9ccf-8bea17185188",
   "metadata": {},
   "outputs": [],
   "source": []
  },
  {
   "cell_type": "code",
   "execution_count": null,
   "id": "969fb117-51a6-4a07-bacb-1c0e83f0ecf7",
   "metadata": {},
   "outputs": [],
   "source": []
  },
  {
   "cell_type": "code",
   "execution_count": null,
   "id": "86cb295b-8fbb-462a-ad77-baa90c8315d8",
   "metadata": {},
   "outputs": [],
   "source": []
  }
 ],
 "metadata": {
  "kernelspec": {
   "display_name": "Python 3 (ipykernel)",
   "language": "python",
   "name": "python3"
  },
  "language_info": {
   "codemirror_mode": {
    "name": "ipython",
    "version": 3
   },
   "file_extension": ".py",
   "mimetype": "text/x-python",
   "name": "python",
   "nbconvert_exporter": "python",
   "pygments_lexer": "ipython3",
   "version": "3.13.5"
  }
 },
 "nbformat": 4,
 "nbformat_minor": 5
}
