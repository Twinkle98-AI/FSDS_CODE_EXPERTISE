{
 "cells": [
  {
   "cell_type": "markdown",
   "id": "f69ad50e-8327-4019-aaac-ff4c433f53af",
   "metadata": {},
   "source": [
    "PRINT()"
   ]
  },
  {
   "cell_type": "code",
   "execution_count": null,
   "id": "1207917b-4730-4c9f-ac12-ad549cfa64fb",
   "metadata": {},
   "outputs": [],
   "source": [
    "#print is use for answer\n"
   ]
  },
  {
   "cell_type": "code",
   "execution_count": 1,
   "id": "e0b5547f-8930-4396-8291-687e190fd667",
   "metadata": {},
   "outputs": [
    {
     "data": {
      "text/plain": [
       "20"
      ]
     },
     "execution_count": 1,
     "metadata": {},
     "output_type": "execute_result"
    }
   ],
   "source": [
    "a=10\n",
    "b=20\n",
    "a\n",
    "b"
   ]
  },
  {
   "cell_type": "code",
   "execution_count": 2,
   "id": "9b59c8b2-f488-467e-9849-6923ef7af7c9",
   "metadata": {},
   "outputs": [
    {
     "name": "stdout",
     "output_type": "stream",
     "text": [
      "10\n",
      "20\n"
     ]
    }
   ],
   "source": [
    "a=10\n",
    "b=20\n",
    "print(a)\n",
    "print(b)"
   ]
  },
  {
   "cell_type": "code",
   "execution_count": 3,
   "id": "0845fc92-cbc3-4846-b955-64776b94d1b6",
   "metadata": {},
   "outputs": [
    {
     "name": "stdout",
     "output_type": "stream",
     "text": [
      "10\n",
      "10 20\n",
      "python\n",
      "10 20 python\n"
     ]
    }
   ],
   "source": [
    "print(10)\n",
    "print(10,20)\n",
    "print('python')\n",
    "print(10,20,'python')"
   ]
  },
  {
   "cell_type": "code",
   "execution_count": 4,
   "id": "980fb3bf-a1f3-4a6e-a6a8-8d63e1b2c62f",
   "metadata": {},
   "outputs": [
    {
     "name": "stdout",
     "output_type": "stream",
     "text": [
      "50\n"
     ]
    }
   ],
   "source": [
    "num1=20\n",
    "num2=30\n",
    "add=num1+num2\n",
    "print(add)"
   ]
  },
  {
   "cell_type": "markdown",
   "id": "b760b107-d4b4-4f7a-9dab-ebdf645037a8",
   "metadata": {},
   "source": [
    "PRINT RESULT WITH STRING"
   ]
  },
  {
   "cell_type": "code",
   "execution_count": 8,
   "id": "ca937d92-d87c-4a66-93fc-f2e7cf81fd64",
   "metadata": {},
   "outputs": [
    {
     "name": "stdout",
     "output_type": "stream",
     "text": [
      "The addition of 20 and 30 is= 50\n"
     ]
    }
   ],
   "source": [
    "num1=20\n",
    "num2=30\n",
    "add=num1+num2\n",
    "print('The addition of' ,num1,'and',num2,'is=',add)"
   ]
  },
  {
   "cell_type": "code",
   "execution_count": 9,
   "id": "5fcde65c-f002-4529-8a73-f4e23c2362ba",
   "metadata": {},
   "outputs": [],
   "source": [
    "name='twinkle'\n",
    "age=25\n",
    "city='hyd'\n",
    "#hellow my name is twinkle and i am 25 years old from hyderabad"
   ]
  },
  {
   "cell_type": "code",
   "execution_count": 11,
   "id": "3b64fba6-b741-494f-a6c5-301d1d44865e",
   "metadata": {},
   "outputs": [
    {
     "name": "stdout",
     "output_type": "stream",
     "text": [
      "my name is twinkle and i am 25 years old from hyd\n"
     ]
    }
   ],
   "source": [
    "print('my name is',name,'and i am',age,'years old from',city)"
   ]
  },
  {
   "cell_type": "markdown",
   "id": "c8219cc3-59b4-4823-ae31-3f75ba223eb5",
   "metadata": {},
   "source": [
    "PRINT FORMAT METHOD"
   ]
  },
  {
   "cell_type": "code",
   "execution_count": 15,
   "id": "0602ea04-aa4e-46e9-8182-ad0e1ff9259a",
   "metadata": {},
   "outputs": [
    {
     "name": "stdout",
     "output_type": "stream",
     "text": [
      "the addition of 20and 30 is =50\n"
     ]
    }
   ],
   "source": [
    "num1=20\n",
    "num2=30\n",
    "add=num1+num2\n",
    "print('the addition of {}and {} is ={}'. format(num1,num2,add))"
   ]
  },
  {
   "cell_type": "code",
   "execution_count": 16,
   "id": "8f5ded45-6cbf-44cb-9ae4-580116201f60",
   "metadata": {},
   "outputs": [],
   "source": [
    "name='twinkle'\n",
    "age=25\n",
    "city='hyd'"
   ]
  },
  {
   "cell_type": "code",
   "execution_count": 18,
   "id": "38258965-9d0c-48cb-8fba-327b8c34c3e7",
   "metadata": {},
   "outputs": [
    {
     "name": "stdout",
     "output_type": "stream",
     "text": [
      "hellow my name is twinkle,and i am25 years old fromhyd\n"
     ]
    }
   ],
   "source": [
    "print('hellow my name is {},and i am{} years old from{}'.format(name,age,city))"
   ]
  },
  {
   "cell_type": "code",
   "execution_count": 21,
   "id": "0c5c7e56-cf67-4f43-8c6e-732e12b79c9a",
   "metadata": {},
   "outputs": [
    {
     "name": "stdout",
     "output_type": "stream",
     "text": [
      "The average of 100,25,and 333 is=152.66666666666666 or 236\n"
     ]
    }
   ],
   "source": [
    "num1=100\n",
    "num2=25\n",
    "num3=333\n",
    "avg=(num1+num2+num3)/3#or we can use avg=round(num1+num2+num3)/3,2)\n",
    "avg1=round(num1+num2+num3//3,2)\n",
    "#the average of num1,num2,num3 is=avg\n",
    "print('The average of {},{},and {} is={} or {}'. format(num1,num2,num3,avg,avg1))"
   ]
  },
  {
   "cell_type": "code",
   "execution_count": 22,
   "id": "bfbadb1e-be95-4456-a454-4ca555b28028",
   "metadata": {},
   "outputs": [
    {
     "data": {
      "text/plain": [
       "152.67"
      ]
     },
     "execution_count": 22,
     "metadata": {},
     "output_type": "execute_result"
    }
   ],
   "source": [
    "round (avg,2)"
   ]
  },
  {
   "cell_type": "code",
   "execution_count": 2,
   "id": "1919f400-b926-4a10-a0a0-09ae8e916430",
   "metadata": {},
   "outputs": [
    {
     "name": "stdout",
     "output_type": "stream",
     "text": [
      "the addition of20 and 30 is=50\n"
     ]
    }
   ],
   "source": [
    "num1=20\n",
    "num2=30\n",
    "add=num1+num2\n",
    "print(f'the addition of{num1} and {num2} is={add}')"
   ]
  },
  {
   "cell_type": "code",
   "execution_count": 3,
   "id": "5b489a4f-262e-4550-a369-ddcd1328c25c",
   "metadata": {},
   "outputs": [],
   "source": [
    "name='twinkle'\n",
    "age=25\n",
    "city='hyd'\n",
    "#hello my name is twinkle and i am 25 years old from hyderabad"
   ]
  },
  {
   "cell_type": "code",
   "execution_count": 6,
   "id": "b9aeef0c-441c-4a58-8cb1-84d8a64ccbb1",
   "metadata": {},
   "outputs": [
    {
     "name": "stdout",
     "output_type": "stream",
     "text": [
      "hello my name is twinkle,and i am 25year old,from hyd.\n"
     ]
    }
   ],
   "source": [
    "print(f'hello my name is {name},and i am {age}year old,from {city}.')"
   ]
  },
  {
   "cell_type": "code",
   "execution_count": 12,
   "id": "bf019fa6-3880-4264-9b0c-7808d27604b2",
   "metadata": {},
   "outputs": [],
   "source": [
    "num1=100\n",
    "num2=25\n",
    "num3=333\n",
    "avg=round(num1+num2+num3/3,2)"
   ]
  },
  {
   "cell_type": "code",
   "execution_count": 11,
   "id": "6a41b886-7a3f-4493-845d-e45d0f139d2e",
   "metadata": {},
   "outputs": [
    {
     "name": "stdout",
     "output_type": "stream",
     "text": [
      "the average of 100, 25 and 333 is = 236.0\n"
     ]
    }
   ],
   "source": [
    "print(f'the average of {num1}, {num2} and {num3} is = {avg}')"
   ]
  },
  {
   "cell_type": "code",
   "execution_count": 16,
   "id": "8f3c50dc-5fed-4c0f-aee0-9d7985f32ca2",
   "metadata": {},
   "outputs": [
    {
     "name": "stdout",
     "output_type": "stream",
     "text": [
      "the addition of 10 and 20 is= 30\n",
      "the addition of 10and 20 is =30\n",
      "the addition of 10 and 20 is= 30\n"
     ]
    }
   ],
   "source": [
    "#let combine all\n",
    "num1=10\n",
    "num2=20\n",
    "add=num1+num2\n",
    "print('the addition of', num1,'and',num2,'is=',add)\n",
    "print('the addition of {}and {} is ={}'. format(num1,num2,add))\n",
    "print(f'the addition of {num1} and {num2} is= {add}')"
   ]
  },
  {
   "cell_type": "markdown",
   "id": "a72574b9-cbc8-4bbe-9c7c-d5e1dda28d94",
   "metadata": {},
   "source": [
    "END STATEMENT"
   ]
  },
  {
   "cell_type": "code",
   "execution_count": 17,
   "id": "3eb13113-3d48-4505-a1f6-c255a51bc0b4",
   "metadata": {},
   "outputs": [
    {
     "name": "stdout",
     "output_type": "stream",
     "text": [
      "hello\n",
      "good morning\n"
     ]
    }
   ],
   "source": [
    "print('hello')#1st statement\n",
    "print('good morning') #2nd statement"
   ]
  },
  {
   "cell_type": "code",
   "execution_count": 19,
   "id": "1941d189-4d7e-4fc8-9821-982a5d782b7f",
   "metadata": {},
   "outputs": [
    {
     "name": "stdout",
     "output_type": "stream",
     "text": [
      "hello world good day\n"
     ]
    }
   ],
   "source": [
    "print('hello',end=' ') #1st statement\n",
    "print('world good day') # 2nd statement"
   ]
  },
  {
   "cell_type": "markdown",
   "id": "69dd3f3c-0d23-4f40-b5a7-e6dd2478fc56",
   "metadata": {},
   "source": [
    "SEPARATOR"
   ]
  },
  {
   "cell_type": "code",
   "execution_count": 20,
   "id": "eeab9692-2e4c-4603-a8d3-0fd5950b4b4d",
   "metadata": {},
   "outputs": [],
   "source": [
    "# here one print statement only we use\n",
    "# inside one print statement we have multiple values\n",
    "# we want to separate these multiple values with anything"
   ]
  },
  {
   "cell_type": "code",
   "execution_count": 23,
   "id": "02afec00-b818-4849-9ee0-6965e5d1d7ef",
   "metadata": {},
   "outputs": [
    {
     "name": "stdout",
     "output_type": "stream",
     "text": [
      "hello--->hye--->how are you\n"
     ]
    }
   ],
   "source": [
    "print('hello','hye','how are you',sep='--->')"
   ]
  },
  {
   "cell_type": "code",
   "execution_count": 24,
   "id": "bd17870c-f8e4-40ce-b314-669d99122dda",
   "metadata": {},
   "outputs": [
    {
     "name": "stdout",
     "output_type": "stream",
     "text": [
      "hello&hye&how are you\n"
     ]
    }
   ],
   "source": [
    "print('hello','hye','how are you',sep='&')"
   ]
  },
  {
   "cell_type": "code",
   "execution_count": 25,
   "id": "fe4e6ef3-eb6c-4875-82f6-e340d5d93eec",
   "metadata": {},
   "outputs": [
    {
     "name": "stdout",
     "output_type": "stream",
     "text": [
      "hello@hye@how are you\n"
     ]
    }
   ],
   "source": [
    "print('hello','hye','how are you', sep='@')"
   ]
  },
  {
   "cell_type": "code",
   "execution_count": 26,
   "id": "d0be8f05-643f-4aea-a60e-0151c9364c30",
   "metadata": {},
   "outputs": [
    {
     "name": "stdout",
     "output_type": "stream",
     "text": [
      "hello hye how are you\n"
     ]
    }
   ],
   "source": [
    "print('hello','hye','how are you', sep=' ')"
   ]
  },
  {
   "cell_type": "code",
   "execution_count": 27,
   "id": "e85fefc4-511b-4400-bc72-bb4c2a7572e6",
   "metadata": {},
   "outputs": [
    {
     "name": "stdout",
     "output_type": "stream",
     "text": [
      "3 .\n"
     ]
    }
   ],
   "source": [
    "print(3,'.')#. is far from 3 so here we will use sep method "
   ]
  },
  {
   "cell_type": "code",
   "execution_count": null,
   "id": "b90a45a7-b5f3-4791-8d48-a9e40aa46bea",
   "metadata": {},
   "outputs": [],
   "source": [
    "print(1,2,end=' ')\n",
    "print(3, '.',sep"
   ]
  }
 ],
 "metadata": {
  "kernelspec": {
   "display_name": "Python 3 (ipykernel)",
   "language": "python",
   "name": "python3"
  },
  "language_info": {
   "codemirror_mode": {
    "name": "ipython",
    "version": 3
   },
   "file_extension": ".py",
   "mimetype": "text/x-python",
   "name": "python",
   "nbconvert_exporter": "python",
   "pygments_lexer": "ipython3",
   "version": "3.13.5"
  }
 },
 "nbformat": 4,
 "nbformat_minor": 5
}
