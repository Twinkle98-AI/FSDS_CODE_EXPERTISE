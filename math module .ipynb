{
 "cells": [
  {
   "cell_type": "markdown",
   "id": "92807605-a03f-42f1-857e-a541e086966c",
   "metadata": {},
   "source": [
    "IMPORT MATH FUNCTION"
   ]
  },
  {
   "cell_type": "code",
   "execution_count": 1,
   "id": "77aa6b23-b18e-45a5-ad53-55c81bd5f964",
   "metadata": {},
   "outputs": [],
   "source": [
    "import math"
   ]
  },
  {
   "cell_type": "code",
   "execution_count": 2,
   "id": "0b4fc584-0eff-4f51-8e80-60b8d2213317",
   "metadata": {},
   "outputs": [
    {
     "data": {
      "text/plain": [
       "5.0"
      ]
     },
     "execution_count": 2,
     "metadata": {},
     "output_type": "execute_result"
    }
   ],
   "source": [
    "x = math.sqrt(25)\n",
    "x"
   ]
  },
  {
   "cell_type": "code",
   "execution_count": 3,
   "id": "e970d64b-139d-4715-bc35-7e426b700b74",
   "metadata": {},
   "outputs": [
    {
     "data": {
      "text/plain": [
       "3.872983346207417"
      ]
     },
     "execution_count": 3,
     "metadata": {},
     "output_type": "execute_result"
    }
   ],
   "source": [
    "x1= math.sqrt(15)\n",
    "x1"
   ]
  },
  {
   "cell_type": "markdown",
   "id": "f5e99b29-4398-4756-b374-1b8420c70562",
   "metadata": {},
   "source": [
    "MATH FLOOR AND CEILING"
   ]
  },
  {
   "cell_type": "code",
   "execution_count": 4,
   "id": "0cfe2a8c-ac1e-40fc-ba97-6612c5023e0e",
   "metadata": {},
   "outputs": [
    {
     "name": "stdout",
     "output_type": "stream",
     "text": [
      "2\n"
     ]
    }
   ],
   "source": [
    "print(math.floor(2.9)) #floor- minimum or least value"
   ]
  },
  {
   "cell_type": "code",
   "execution_count": 5,
   "id": "ac17a5de-6725-4e38-92d3-b8dfecfaa407",
   "metadata": {},
   "outputs": [
    {
     "name": "stdout",
     "output_type": "stream",
     "text": [
      "3\n"
     ]
    }
   ],
   "source": [
    "print(math.ceil(2.9)) #ceil-maximum or highest value"
   ]
  },
  {
   "cell_type": "code",
   "execution_count": 6,
   "id": "50517730-647d-45c1-a8bd-2b2b1a673d4f",
   "metadata": {},
   "outputs": [
    {
     "name": "stdout",
     "output_type": "stream",
     "text": [
      "9.0\n"
     ]
    }
   ],
   "source": [
    "print(math.pow(3,2))"
   ]
  },
  {
   "cell_type": "code",
   "execution_count": 7,
   "id": "db6d8073-7c76-43e0-aa0a-09d18b081610",
   "metadata": {},
   "outputs": [
    {
     "name": "stdout",
     "output_type": "stream",
     "text": [
      "3.141592653589793\n"
     ]
    }
   ],
   "source": [
    "print(math.pi) #these are constant"
   ]
  },
  {
   "cell_type": "code",
   "execution_count": 8,
   "id": "3abd24e8-aa7b-4805-b06b-9eeef2085c7f",
   "metadata": {},
   "outputs": [
    {
     "name": "stdout",
     "output_type": "stream",
     "text": [
      "2.718281828459045\n"
     ]
    }
   ],
   "source": [
    "print(math.e)"
   ]
  },
  {
   "cell_type": "code",
   "execution_count": 9,
   "id": "41aec795-c07f-4a1b-9773-16ca64196546",
   "metadata": {},
   "outputs": [
    {
     "data": {
      "text/plain": [
       "10.0"
      ]
     },
     "execution_count": 9,
     "metadata": {},
     "output_type": "execute_result"
    }
   ],
   "source": [
    "import math as m\n",
    "m.sqrt(100)"
   ]
  },
  {
   "cell_type": "markdown",
   "id": "84aedbbc-bd08-48c4-8f97-68076d774f04",
   "metadata": {},
   "source": [
    "from math import sqrt pow #math has many function if you want to call specific function then you use from pow(2,3)"
   ]
  },
  {
   "cell_type": "code",
   "execution_count": 11,
   "id": "6b3cfe0d-ea5e-4ba4-9469-b45548447247",
   "metadata": {},
   "outputs": [
    {
     "data": {
      "text/plain": [
       "8"
      ]
     },
     "execution_count": 11,
     "metadata": {},
     "output_type": "execute_result"
    }
   ],
   "source": [
    "round(pow(2,3))"
   ]
  },
  {
   "cell_type": "markdown",
   "id": "ce117dd6-473a-4407-8ae2-9296657fdd67",
   "metadata": {},
   "source": [
    "lets take input from the user in chat format "
   ]
  },
  {
   "cell_type": "code",
   "execution_count": 14,
   "id": "bfe56ed6-9d8b-471b-9def-9c3887f97a03",
   "metadata": {},
   "outputs": [
    {
     "name": "stdin",
     "output_type": "stream",
     "text": [
      "enter a char 100\n"
     ]
    },
    {
     "name": "stdout",
     "output_type": "stream",
     "text": [
      "100\n"
     ]
    }
   ],
   "source": [
    "ch= input('enter a char')\n",
    "print(ch)"
   ]
  },
  {
   "cell_type": "code",
   "execution_count": 15,
   "id": "a140a846-b3d6-4a82-8d8d-df2f29b967b2",
   "metadata": {},
   "outputs": [
    {
     "name": "stdout",
     "output_type": "stream",
     "text": [
      "1\n"
     ]
    }
   ],
   "source": [
    "print(ch[0])"
   ]
  },
  {
   "cell_type": "code",
   "execution_count": 16,
   "id": "6a292815-ec8e-4c55-90e9-a508b6161494",
   "metadata": {},
   "outputs": [
    {
     "name": "stdout",
     "output_type": "stream",
     "text": [
      "0\n"
     ]
    }
   ],
   "source": [
    "print(ch[1])"
   ]
  },
  {
   "cell_type": "code",
   "execution_count": 17,
   "id": "4011017a-f723-40f5-89aa-2f5d74342894",
   "metadata": {},
   "outputs": [
    {
     "name": "stdout",
     "output_type": "stream",
     "text": [
      "0\n"
     ]
    }
   ],
   "source": [
    "print(ch[-1])"
   ]
  },
  {
   "cell_type": "code",
   "execution_count": 20,
   "id": "6660a210-a606-42c8-b200-78b9e7e2fe09",
   "metadata": {},
   "outputs": [
    {
     "name": "stdin",
     "output_type": "stream",
     "text": [
      "enter a char 0\n"
     ]
    },
    {
     "name": "stdout",
     "output_type": "stream",
     "text": [
      "0\n"
     ]
    }
   ],
   "source": [
    "ch= input('enter a char')[0]\n",
    "print(ch)"
   ]
  },
  {
   "cell_type": "code",
   "execution_count": 19,
   "id": "1f755ceb-ed6b-472c-9c0e-ef02379c74a4",
   "metadata": {},
   "outputs": [
    {
     "name": "stdin",
     "output_type": "stream",
     "text": [
      "enter a char 1:3\n"
     ]
    },
    {
     "name": "stdout",
     "output_type": "stream",
     "text": [
      ":3\n"
     ]
    }
   ],
   "source": [
    "ch= input('enter a char')[1:3]\n",
    "print(ch)"
   ]
  },
  {
   "cell_type": "code",
   "execution_count": null,
   "id": "2e2a631f-9cdb-410c-9101-8b132b9fcd92",
   "metadata": {},
   "outputs": [],
   "source": [
    "ch= input('enter a char')\n",
    "print(ch) #if you enter as 2+6-2 we get as 2+6-2 only"
   ]
  }
 ],
 "metadata": {
  "kernelspec": {
   "display_name": "Python 3 (ipykernel)",
   "language": "python",
   "name": "python3"
  },
  "language_info": {
   "codemirror_mode": {
    "name": "ipython",
    "version": 3
   },
   "file_extension": ".py",
   "mimetype": "text/x-python",
   "name": "python",
   "nbconvert_exporter": "python",
   "pygments_lexer": "ipython3",
   "version": "3.13.5"
  }
 },
 "nbformat": 4,
 "nbformat_minor": 5
}
